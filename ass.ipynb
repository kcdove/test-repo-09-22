{
 "cells": [
  {
   "cell_type": "markdown",
   "metadata": {},
   "source": [
    "STEP 1-3"
   ]
  },
  {
   "cell_type": "code",
   "execution_count": 7,
   "metadata": {},
   "outputs": [
    {
     "name": "stdout",
     "output_type": "stream",
     "text": [
      "3.3333333333333335\n"
     ]
    }
   ],
   "source": [
    "number1 = int(input(\"enter a number \\n\")) #changed it into intergers\n",
    "number2= int(input(\"enter a number \\n\"))\n",
    "op= input(\"enter an operator (+,-,*,/) \\n\")\n",
    "if op == '+':\n",
    "   print(number1 + number2)\n",
    "elif op == '*':\n",
    "   print(number1 * number2)\n",
    "elif op == '-':\n",
    "    print (number1 - number2)\n",
    "elif op == '/':\n",
    "    print (number1 / number2)\n",
    "else:\n",
    "    print ('this operator not found')"
   ]
  },
  {
   "cell_type": "markdown",
   "metadata": {},
   "source": [
    "STEP 4"
   ]
  },
  {
   "cell_type": "code",
   "execution_count": 9,
   "metadata": {},
   "outputs": [
    {
     "name": "stdout",
     "output_type": "stream",
     "text": [
      "30\n"
     ]
    }
   ],
   "source": [
    "def multiply(x , y):\n",
    "    num1 = int(x)\n",
    "    num2 = int(y)\n",
    "    result = num1 * num2\n",
    "    print (result)\n",
    "    \n",
    "multiply(10, 3)"
   ]
  },
  {
   "cell_type": "markdown",
   "metadata": {},
   "source": [
    "STEP 5"
   ]
  },
  {
   "cell_type": "code",
   "execution_count": 20,
   "metadata": {},
   "outputs": [
    {
     "data": {
      "text/plain": [
       "True"
      ]
     },
     "execution_count": 20,
     "metadata": {},
     "output_type": "execute_result"
    }
   ],
   "source": [
    "\n",
    "def safe_div(x,y):\n",
    "    x = float(input(\"enter a number \\n\"))\n",
    "    y = float(input(\"enter a number \\n\"))\n",
    "    op= input(\"enter an operator (+,-,*,/) \\n\")\n",
    "   \n",
    "    if y == 0:\n",
    "        return True\n",
    "    elif y != 0:\n",
    "        return False\n",
    "    elif op != \"/\":\n",
    "        return False\n",
    "    \n",
    "safe_div (5,0)    "
   ]
  },
  {
   "cell_type": "markdown",
   "metadata": {},
   "source": [
    "STEP 6"
   ]
  },
  {
   "cell_type": "code",
   "execution_count": 3,
   "metadata": {},
   "outputs": [
    {
     "name": "stdout",
     "output_type": "stream",
     "text": [
      "2\n"
     ]
    }
   ],
   "source": [
    "def modulo(x , y):\n",
    "    num1 = int(x)\n",
    "    num2 = int(y)\n",
    "    result = num1 % num2\n",
    "    print (result)\n",
    "    \n",
    "modulo(10, 3)  "
   ]
  },
  {
   "cell_type": "markdown",
   "metadata": {},
   "source": [
    "STEP 7\n"
   ]
  },
  {
   "cell_type": "code",
   "execution_count": 4,
   "metadata": {},
   "outputs": [
    {
     "name": "stdout",
     "output_type": "stream",
     "text": [
      "3.333\n"
     ]
    }
   ],
   "source": [
    "def dec(x , y):\n",
    "    num1 = float(x)\n",
    "    num2 = float(y)\n",
    "    result = num1 / num2\n",
    "    x = round(result,3)\n",
    "    print (x)\n",
    "    \n",
    "dec(10, 3) "
   ]
  },
  {
   "cell_type": "markdown",
   "metadata": {},
   "source": [
    "TASK 1"
   ]
  },
  {
   "cell_type": "code",
   "execution_count": 1,
   "metadata": {},
   "outputs": [
    {
     "name": "stdout",
     "output_type": "stream",
     "text": [
      "True\n",
      "True\n",
      "True\n",
      "True\n",
      "True\n"
     ]
    }
   ],
   "source": [
    "\n",
    "my_name = input(\"enter your name\")\n",
    "list_of_names = [\"joy\", \"ken\", \"dove\", \"ify\", \"nelly\"]\n",
    "for x in list_of_names:\n",
    "        print (\"True\")\n"
   ]
  }
 ],
 "metadata": {
  "kernelspec": {
   "display_name": "Python 3.10.6 64-bit",
   "language": "python",
   "name": "python3"
  },
  "language_info": {
   "codemirror_mode": {
    "name": "ipython",
    "version": 3
   },
   "file_extension": ".py",
   "mimetype": "text/x-python",
   "name": "python",
   "nbconvert_exporter": "python",
   "pygments_lexer": "ipython3",
   "version": "3.10.6"
  },
  "orig_nbformat": 4,
  "vscode": {
   "interpreter": {
    "hash": "aee8b7b246df8f9039afb4144a1f6fd8d2ca17a180786b69acc140d282b71a49"
   }
  }
 },
 "nbformat": 4,
 "nbformat_minor": 2
}
