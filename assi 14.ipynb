{
 "cells": [
  {
   "cell_type": "markdown",
   "metadata": {},
   "source": [
    "Task 1\n"
   ]
  },
  {
   "cell_type": "code",
   "execution_count": 39,
   "metadata": {},
   "outputs": [
    {
     "name": "stdout",
     "output_type": "stream",
     "text": [
      "('python', 'learning', 'challenging')\n",
      "['challenging', 'learning', 'python']\n",
      "python\n"
     ]
    }
   ],
   "source": [
    "from operator import index\n",
    "\n",
    "\n",
    "def last_word(list_w):\n",
    "    print (list_w)\n",
    "    index = len(list_w)-1\n",
    "\n",
    "    sorted_list = sorted(list_w)\n",
    "    print(sorted_list)\n",
    "    \n",
    "    print (sorted_list[index])\n",
    " \n",
    "last_word((\"python\", \"learning\", \"challenging\"))\n"
   ]
  },
  {
   "cell_type": "markdown",
   "metadata": {},
   "source": [
    "TASK 2"
   ]
  },
  {
   "cell_type": "code",
   "execution_count": 1,
   "metadata": {},
   "outputs": [
    {
     "name": "stdout",
     "output_type": "stream",
     "text": [
      "DOVE\n"
     ]
    }
   ],
   "source": [
    "# file *f\n",
    "f = open (\"DOVE.txt\", \"r\")\n",
    "print (f.read())"
   ]
  },
  {
   "cell_type": "markdown",
   "metadata": {},
   "source": [
    "TASK 3"
   ]
  },
  {
   "cell_type": "code",
   "execution_count": 7,
   "metadata": {},
   "outputs": [],
   "source": [
    "import random\n",
    "\n",
    "def dice_roll():\n",
    "   rand = random.randint(1, 6)\n",
    "   print(rand)\n",
    "\n",
    "dice_roll()"
   ]
  }
 ],
 "metadata": {
  "kernelspec": {
   "display_name": "Python 3.10.6 64-bit",
   "language": "python",
   "name": "python3"
  },
  "language_info": {
   "codemirror_mode": {
    "name": "ipython",
    "version": 3
   },
   "file_extension": ".py",
   "mimetype": "text/x-python",
   "name": "python",
   "nbconvert_exporter": "python",
   "pygments_lexer": "ipython3",
   "version": "3.10.6"
  },
  "orig_nbformat": 4,
  "vscode": {
   "interpreter": {
    "hash": "aee8b7b246df8f9039afb4144a1f6fd8d2ca17a180786b69acc140d282b71a49"
   }
  }
 },
 "nbformat": 4,
 "nbformat_minor": 2
}
