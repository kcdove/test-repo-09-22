{
 "cells": [
  {
   "cell_type": "markdown",
   "metadata": {},
   "source": [
    "Task 1"
   ]
  },
  {
   "cell_type": "code",
   "execution_count": 9,
   "metadata": {},
   "outputs": [
    {
     "data": {
      "text/plain": [
       "['z', 'of', 'any', 'best']"
      ]
     },
     "execution_count": 9,
     "metadata": {},
     "output_type": "execute_result"
    }
   ],
   "source": [
    "def lst(l):\n",
    "    \n",
    "    lt = sorted(l, key=len)\n",
    "    return lt\n",
    "\n",
    "t = [\"any\", \"best\" ,\"z\", \"of\"]\n",
    "lst (t)\n"
   ]
  },
  {
   "cell_type": "markdown",
   "metadata": {},
   "source": [
    "Task 2"
   ]
  },
  {
   "cell_type": "code",
   "execution_count": 75,
   "metadata": {},
   "outputs": [
    {
     "ename": "TypeError",
     "evalue": "dict.keys() takes no arguments (1 given)",
     "output_type": "error",
     "traceback": [
      "\u001b[0;31m---------------------------------------------------------------------------\u001b[0m",
      "\u001b[0;31mTypeError\u001b[0m                                 Traceback (most recent call last)",
      "Cell \u001b[0;32mIn [75], line 11\u001b[0m\n\u001b[1;32m      8\u001b[0m         \u001b[39mreturn\u001b[39;00m \u001b[39mTrue\u001b[39;00m\n\u001b[1;32m      9\u001b[0m     \u001b[39m# else:\u001b[39;00m\n\u001b[1;32m     10\u001b[0m     \u001b[39m#     return False\u001b[39;00m\n\u001b[0;32m---> 11\u001b[0m val (d)\n",
      "Cell \u001b[0;32mIn [75], line 4\u001b[0m, in \u001b[0;36mval\u001b[0;34m(d)\u001b[0m\n\u001b[1;32m      3\u001b[0m \u001b[39mdef\u001b[39;00m \u001b[39mval\u001b[39m (d):\n\u001b[0;32m----> 4\u001b[0m     dt \u001b[39m=\u001b[39m d\u001b[39m.\u001b[39;49mkeys(d)\n\u001b[1;32m      5\u001b[0m     \u001b[39mprint\u001b[39m (dt)\n\u001b[1;32m      6\u001b[0m     \u001b[39mfor\u001b[39;00m va \u001b[39min\u001b[39;00m d:\n",
      "\u001b[0;31mTypeError\u001b[0m: dict.keys() takes no arguments (1 given)"
     ]
    }
   ],
   "source": [
    "d = {\"name\": \"Karla\", \"age\": 25, \"city\": \"Berlin\"}\n",
    "va = \"Brin\"\n",
    "def val (d):\n",
    "    dt = d.keys(d)\n",
    "    print (dt)\n",
    "    for va in d:\n",
    "        va == d\n",
    "        return True\n",
    "    # else:\n",
    "    #     return False\n",
    "val (d)\n",
    "\n",
    "\n",
    "\n"
   ]
  }
 ],
 "metadata": {
  "kernelspec": {
   "display_name": "Python 3.10.6 64-bit",
   "language": "python",
   "name": "python3"
  },
  "language_info": {
   "codemirror_mode": {
    "name": "ipython",
    "version": 3
   },
   "file_extension": ".py",
   "mimetype": "text/x-python",
   "name": "python",
   "nbconvert_exporter": "python",
   "pygments_lexer": "ipython3",
   "version": "3.10.6"
  },
  "orig_nbformat": 4,
  "vscode": {
   "interpreter": {
    "hash": "aee8b7b246df8f9039afb4144a1f6fd8d2ca17a180786b69acc140d282b71a49"
   }
  }
 },
 "nbformat": 4,
 "nbformat_minor": 2
}
