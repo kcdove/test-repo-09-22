{
 "cells": [
  {
   "cell_type": "markdown",
   "metadata": {},
   "source": [
    "NUMBER 1\n"
   ]
  },
  {
   "cell_type": "code",
   "execution_count": 15,
   "metadata": {},
   "outputs": [
    {
     "data": {
      "text/plain": [
       "15"
      ]
     },
     "execution_count": 15,
     "metadata": {},
     "output_type": "execute_result"
    }
   ],
   "source": [
    "def add_10 (n):\n",
    "    x = 10 + n\n",
    "    \n",
    "    return x\n",
    "    \n",
    "    # return x (in\n",
    "add_10 (5)"
   ]
  },
  {
   "cell_type": "markdown",
   "metadata": {},
   "source": [
    "NUMBER 2"
   ]
  },
  {
   "cell_type": "code",
   "execution_count": 16,
   "metadata": {},
   "outputs": [
    {
     "data": {
      "text/plain": [
       "'dove'"
      ]
     },
     "execution_count": 16,
     "metadata": {},
     "output_type": "execute_result"
    }
   ],
   "source": [
    "def longer_string ():\n",
    "    x = input(\"enter a word \\n\")\n",
    "    y = input(\"enter a word \\n\")\n",
    "    if len(x) >= len(y):\n",
    "        return x\n",
    "    else:\n",
    "        return y\n",
    "    \n",
    "longer_string ()"
   ]
  },
  {
   "cell_type": "markdown",
   "metadata": {},
   "source": [
    "Number 3"
   ]
  },
  {
   "cell_type": "code",
   "execution_count": 18,
   "metadata": {},
   "outputs": [
    {
     "data": {
      "text/plain": [
       "False"
      ]
     },
     "execution_count": 18,
     "metadata": {},
     "output_type": "execute_result"
    }
   ],
   "source": [
    "def _odd ():\n",
    "   \n",
    "    x = int(input(\"enter a number \\n\"))\n",
    "    y = int(input(\"enter a number \\n\"))\n",
    "    z = x % y\n",
    "    if x % y == 0:\n",
    "        return True\n",
    "    else:\n",
    "        return False\n",
    "_odd ()"
   ]
  },
  {
   "cell_type": "markdown",
   "metadata": {},
   "source": [
    "Number 4"
   ]
  },
  {
   "cell_type": "code",
   "execution_count": 79,
   "metadata": {},
   "outputs": [
    {
     "name": "stdout",
     "output_type": "stream",
     "text": [
      "5\n",
      "7\n",
      "6\n"
     ]
    }
   ],
   "source": [
    "\n",
    "# def value ():\n",
    "#     x = int(input(\"enter a min number \\n\"))\n",
    "#     y = int(input(\"enter a max number \\n\"))\n",
    "#     li = [3, 5, 0, 7, 6, 9, 10]\n",
    "#     for element in li: \n",
    "#         if element in range (x, y):\n",
    "#              print (element)\n",
    "           \n",
    "# value()  \n",
    "min_val= int(input(\"enter a min number \\n\"))\n",
    "max_val = int(input(\"enter a max number \\n\"))\n",
    "lists_of_integer = [3, 5, 0, 7, 6, 9, 10]  \n",
    "def values_inbetween (lists_of_integer, min_val, max_val):\n",
    "    for element in lists_of_integer: \n",
    "        if element in range (min_val >=3 or <= max_val):\n",
    "            # min_val >= 4\n",
    "            # max_val <= 9\n",
    "             \n",
    "                print (element)  \n",
    "    \n",
    "values_inbetween(lists_of_integer, min_val, max_val)   \n"
   ]
  },
  {
   "cell_type": "markdown",
   "metadata": {},
   "source": [
    "NUMBER 5"
   ]
  },
  {
   "cell_type": "code",
   "execution_count": 62,
   "metadata": {},
   "outputs": [
    {
     "name": "stdout",
     "output_type": "stream",
     "text": [
      "4\n",
      "4\n",
      "4\n"
     ]
    }
   ],
   "source": [
    "li = []\n",
    "num = 4\n",
    "for i in range (2, num + 1):\n",
    "    el = int(input(\"enter elemennt: \"))\n",
    "    li.append(el)\n",
    "print(max(li))"
   ]
  },
  {
   "cell_type": "markdown",
   "metadata": {},
   "source": [
    "NUMBER 6"
   ]
  },
  {
   "cell_type": "code",
   "execution_count": 55,
   "metadata": {},
   "outputs": [
    {
     "ename": "TypeError",
     "evalue": "can only concatenate str (not \"int\") to str",
     "output_type": "error",
     "traceback": [
      "\u001b[0;31m---------------------------------------------------------------------------\u001b[0m",
      "\u001b[0;31mTypeError\u001b[0m                                 Traceback (most recent call last)",
      "Cell \u001b[0;32mIn [55], line 3\u001b[0m\n\u001b[1;32m      1\u001b[0m st \u001b[39m=\u001b[39m []\n\u001b[1;32m      2\u001b[0m wrd \u001b[39m=\u001b[39m \u001b[39minput\u001b[39m(\u001b[39m\"\u001b[39m\u001b[39menter num of words in d list :\u001b[39m\u001b[39m\"\u001b[39m)\n\u001b[0;32m----> 3\u001b[0m \u001b[39mfor\u001b[39;00m i \u001b[39min\u001b[39;00m \u001b[39mrange\u001b[39m (\u001b[39m1\u001b[39m, wrd \u001b[39m+\u001b[39;49m \u001b[39m1\u001b[39;49m):\n\u001b[1;32m      4\u001b[0m     words \u001b[39m=\u001b[39m \u001b[39minput\u001b[39m(\u001b[39m\"\u001b[39m\u001b[39menter a word: \u001b[39m\u001b[39m\"\u001b[39m)\n\u001b[1;32m      5\u001b[0m     st\u001b[39m.\u001b[39mappend(words)\n",
      "\u001b[0;31mTypeError\u001b[0m: can only concatenate str (not \"int\") to str"
     ]
    }
   ],
   "source": [
    "st = []\n",
    "wrd = input(\"enter num of words in d list :\")\n",
    "for i in range (1, wrd + 1):\n",
    "    words = input(\"enter a word: \")\n",
    "    st.append(words)\n",
    "print (max(st))\n"
   ]
  }
 ],
 "metadata": {
  "kernelspec": {
   "display_name": "Python 3.10.6 64-bit",
   "language": "python",
   "name": "python3"
  },
  "language_info": {
   "codemirror_mode": {
    "name": "ipython",
    "version": 3
   },
   "file_extension": ".py",
   "mimetype": "text/x-python",
   "name": "python",
   "nbconvert_exporter": "python",
   "pygments_lexer": "ipython3",
   "version": "3.10.6"
  },
  "orig_nbformat": 4,
  "vscode": {
   "interpreter": {
    "hash": "aee8b7b246df8f9039afb4144a1f6fd8d2ca17a180786b69acc140d282b71a49"
   }
  }
 },
 "nbformat": 4,
 "nbformat_minor": 2
}
