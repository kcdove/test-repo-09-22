{
 "cells": [
  {
   "cell_type": "markdown",
   "metadata": {},
   "source": [
    "NUMBER 1\n"
   ]
  },
  {
   "cell_type": "code",
   "execution_count": 15,
   "metadata": {},
   "outputs": [
    {
     "data": {
      "text/plain": [
       "15"
      ]
     },
     "execution_count": 15,
     "metadata": {},
     "output_type": "execute_result"
    }
   ],
   "source": [
    "def add_10 (n):\n",
    "    x = 10 + n\n",
    "    \n",
    "    return x\n",
    "    \n",
    "    # return x (in\n",
    "add_10 (5)"
   ]
  },
  {
   "cell_type": "markdown",
   "metadata": {},
   "source": [
    "NUMBER 2"
   ]
  },
  {
   "cell_type": "code",
   "execution_count": 16,
   "metadata": {},
   "outputs": [
    {
     "data": {
      "text/plain": [
       "'dove'"
      ]
     },
     "execution_count": 16,
     "metadata": {},
     "output_type": "execute_result"
    }
   ],
   "source": [
    "def longer_string ():\n",
    "    x = input(\"enter a word \\n\")\n",
    "    y = input(\"enter a word \\n\")\n",
    "    if len(x) >= len(y):\n",
    "        return x\n",
    "    else:\n",
    "        return y\n",
    "    \n",
    "longer_string ()"
   ]
  },
  {
   "cell_type": "markdown",
   "metadata": {},
   "source": [
    "Number 3"
   ]
  },
  {
   "cell_type": "code",
   "execution_count": 20,
   "metadata": {},
   "outputs": [
    {
     "data": {
      "text/plain": [
       "True"
      ]
     },
     "execution_count": 20,
     "metadata": {},
     "output_type": "execute_result"
    }
   ],
   "source": [
    "def _odd ():\n",
    "    x = int(input(\"enter a number \\n\"))\n",
    "    y = int(input(\"enter a number \\n\"))\n",
    "    z = x % y\n",
    "    if x % y == 0:\n",
    "        return True\n",
    "    else:\n",
    "        return False\n",
    "_odd ()"
   ]
  },
  {
   "cell_type": "markdown",
   "metadata": {},
   "source": [
    "Number 4"
   ]
  },
  {
   "cell_type": "code",
   "execution_count": 17,
   "metadata": {},
   "outputs": [
    {
     "ename": "UnboundLocalError",
     "evalue": "local variable 'li' referenced before assignment",
     "output_type": "error",
     "traceback": [
      "\u001b[0;31m---------------------------------------------------------------------------\u001b[0m",
      "\u001b[0;31mUnboundLocalError\u001b[0m                         Traceback (most recent call last)",
      "Cell \u001b[0;32mIn [17], line 11\u001b[0m\n\u001b[1;32m      8\u001b[0m              \u001b[39mprint\u001b[39m (d)\n\u001b[1;32m     10\u001b[0m     li \u001b[39m=\u001b[39m [\u001b[39m3\u001b[39m, \u001b[39m5\u001b[39m, \u001b[39m0\u001b[39m, \u001b[39m7\u001b[39m, \u001b[39m6\u001b[39m, \u001b[39m9\u001b[39m, \u001b[39m10\u001b[39m]\n\u001b[0;32m---> 11\u001b[0m value()\n",
      "Cell \u001b[0;32mIn [17], line 3\u001b[0m, in \u001b[0;36mvalue\u001b[0;34m()\u001b[0m\n\u001b[1;32m      1\u001b[0m \u001b[39mdef\u001b[39;00m \u001b[39mvalue\u001b[39m ():\n\u001b[0;32m----> 3\u001b[0m     \u001b[39mfor\u001b[39;00m \u001b[39mlist\u001b[39m \u001b[39min\u001b[39;00m li: \n\u001b[1;32m      4\u001b[0m         min_val \u001b[39m=\u001b[39m \u001b[39m1\u001b[39m\n\u001b[1;32m      5\u001b[0m         max_val \u001b[39m=\u001b[39m \u001b[39m9\u001b[39m\n",
      "\u001b[0;31mUnboundLocalError\u001b[0m: local variable 'li' referenced before assignment"
     ]
    }
   ],
   "source": [
    "\n",
    "def value ():\n",
    "   \n",
    "    for list in li: \n",
    "        min_val = 1\n",
    "        max_val = 9\n",
    "        d = min_val <= max_val\n",
    "        if d in range (li):\n",
    "             print (d)\n",
    "           \n",
    "    li = [3, 5, 0, 7, 6, 9, 10]\n",
    "value()  \n",
    "    \n",
    "    \n"
   ]
  },
  {
   "cell_type": "markdown",
   "metadata": {},
   "source": [
    "NUMBER 5"
   ]
  },
  {
   "cell_type": "code",
   "execution_count": null,
   "metadata": {},
   "outputs": [
    {
     "ename": "TypeError",
     "evalue": "max() takes 0 positional arguments but 1 was given",
     "output_type": "error",
     "traceback": [
      "\u001b[0;31m---------------------------------------------------------------------------\u001b[0m",
      "\u001b[0;31mTypeError\u001b[0m                                 Traceback (most recent call last)",
      "Cell \u001b[0;32mIn [32], line 7\u001b[0m\n\u001b[1;32m      2\u001b[0m     \u001b[39mlist\u001b[39m \u001b[39m=\u001b[39m (\u001b[39m2\u001b[39m, \u001b[39m0\u001b[39m, \u001b[39m4\u001b[39m, \u001b[39m3\u001b[39m, \u001b[39m5\u001b[39m, \u001b[39m8\u001b[39m, \u001b[39m9\u001b[39m, \u001b[39m1\u001b[39m)\n\u001b[1;32m      3\u001b[0m     \u001b[39m# max_val = list[0]\u001b[39;00m\n\u001b[1;32m      4\u001b[0m     \u001b[39m# for val in list:\u001b[39;00m\n\u001b[1;32m      5\u001b[0m     \u001b[39m#     if val > max_val:\u001b[39;00m\n\u001b[1;32m      6\u001b[0m     \u001b[39m#         max_val = val\u001b[39;00m\n\u001b[0;32m----> 7\u001b[0m x \u001b[39m=\u001b[39m \u001b[39mmax\u001b[39;49m (\u001b[39mlist\u001b[39;49m)\n\u001b[1;32m      8\u001b[0m \u001b[39mprint\u001b[39m(x)\n\u001b[1;32m      9\u001b[0m \u001b[39m# return max_val\u001b[39;00m\n",
      "\u001b[0;31mTypeError\u001b[0m: max() takes 0 positional arguments but 1 was given"
     ]
    }
   ],
   "source": [
    "def max_val():\n",
    "    list = (2, 0, 4, 3, 5, 8, 9, 1)\n",
    "    # max_val = list[0]\n",
    "    # for val in list:\n",
    "    #     if val > max_val:\n",
    "    #         max_val = val\n",
    "x = max (list)\n",
    "print(x)\n",
    "# return max_val\n",
    "max_val()"
   ]
  },
  {
   "cell_type": "markdown",
   "metadata": {},
   "source": [
    "NUMBER 6"
   ]
  },
  {
   "cell_type": "code",
   "execution_count": null,
   "metadata": {},
   "outputs": [],
   "source": []
  }
 ],
 "metadata": {
  "kernelspec": {
   "display_name": "Python 3.10.6 64-bit",
   "language": "python",
   "name": "python3"
  },
  "language_info": {
   "codemirror_mode": {
    "name": "ipython",
    "version": 3
   },
   "file_extension": ".py",
   "mimetype": "text/x-python",
   "name": "python",
   "nbconvert_exporter": "python",
   "pygments_lexer": "ipython3",
   "version": "3.10.6"
  },
  "orig_nbformat": 4,
  "vscode": {
   "interpreter": {
    "hash": "aee8b7b246df8f9039afb4144a1f6fd8d2ca17a180786b69acc140d282b71a49"
   }
  }
 },
 "nbformat": 4,
 "nbformat_minor": 2
}
